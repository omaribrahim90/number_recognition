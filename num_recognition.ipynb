{
 "cells": [
  {
   "cell_type": "code",
   "execution_count": 15,
   "id": "214431e3",
   "metadata": {},
   "outputs": [],
   "source": [
    "import os \n",
    "import cv2\n",
    "import numpy as np\n",
    "import matplotlib.pyplot as plt \n",
    "import tensorflow as tf\n",
    "\n",
    "\n",
    "mnist = tf.keras.datasets.mnist"
   ]
  },
  {
   "cell_type": "code",
   "execution_count": 16,
   "id": "b7292df0",
   "metadata": {},
   "outputs": [],
   "source": [
    "(x_train, y_train), (x_test, y_test) = mnist.load_data() # already split into training and testing sets"
   ]
  },
  {
   "cell_type": "code",
   "execution_count": 17,
   "id": "0b9b473a",
   "metadata": {},
   "outputs": [],
   "source": [
    "# Normaliztion \n",
    "x_train = tf.keras.utils.normalize(x_train, axis=1)\n",
    "x_test = tf.keras.utils.normalize(x_test, axis=1)"
   ]
  },
  {
   "cell_type": "code",
   "execution_count": 18,
   "id": "6c41be0d",
   "metadata": {},
   "outputs": [
    {
     "name": "stdout",
     "output_type": "stream",
     "text": [
      "Epoch 1/3\n",
      "\u001b[1m1875/1875\u001b[0m \u001b[32m━━━━━━━━━━━━━━━━━━━━\u001b[0m\u001b[37m\u001b[0m \u001b[1m3s\u001b[0m 1ms/step - accuracy: 0.9205 - loss: 0.2679\n",
      "Epoch 2/3\n",
      "\u001b[1m1875/1875\u001b[0m \u001b[32m━━━━━━━━━━━━━━━━━━━━\u001b[0m\u001b[37m\u001b[0m \u001b[1m3s\u001b[0m 1ms/step - accuracy: 0.9658 - loss: 0.1108\n",
      "Epoch 3/3\n",
      "\u001b[1m1875/1875\u001b[0m \u001b[32m━━━━━━━━━━━━━━━━━━━━\u001b[0m\u001b[37m\u001b[0m \u001b[1m3s\u001b[0m 1ms/step - accuracy: 0.9759 - loss: 0.0764\n"
     ]
    }
   ],
   "source": [
    "#bulid the model\n",
    "\n",
    "model = tf.keras.models.Sequential() #container , linear stack of layers\n",
    "model.add(tf.keras.layers.Flatten(input_shape=(28,28))) # input layer\n",
    "model.add(tf.keras.layers.Dense(128, activation='relu')) # hidden layer , dene means fully connected layer\n",
    "model.add(tf.keras.layers.Dense(128, activation='relu')) \n",
    "model.add(tf.keras.layers.Dense(10, activation='softmax'))\n",
    "\n",
    "model.compile(optimizer='adam', loss='sparse_categorical_crossentropy', metrics=['accuracy']) # compile the model\n",
    "model.fit(x_train, y_train, epochs=3) # train the model\n",
    "\n",
    "model.save(\"handwritten_recognition.keras\")"
   ]
  },
  {
   "cell_type": "code",
   "execution_count": 19,
   "id": "da7def3d",
   "metadata": {},
   "outputs": [],
   "source": [
    "m = tf.keras.models.load_model(\"handwritten_recognition.keras\")"
   ]
  },
  {
   "cell_type": "code",
   "execution_count": 21,
   "id": "f26c0b3c",
   "metadata": {},
   "outputs": [
    {
     "name": "stdout",
     "output_type": "stream",
     "text": [
      "\u001b[1m313/313\u001b[0m \u001b[32m━━━━━━━━━━━━━━━━━━━━\u001b[0m\u001b[37m\u001b[0m \u001b[1m0s\u001b[0m 1ms/step - accuracy: 0.9693 - loss: 0.1026\n",
      "loss : 0.10260872542858124\n",
      "accuracy : 0.9692999720573425\n"
     ]
    }
   ],
   "source": [
    "# evaluate the model\n",
    "loss , accuracy = m.evaluate(x_test, y_test)\n",
    "print('loss :' ,loss)\n",
    "print( 'accuracy :' ,accuracy)    "
   ]
  }
 ],
 "metadata": {
  "kernelspec": {
   "display_name": "DATA_PROJECT",
   "language": "python",
   "name": "python3"
  },
  "language_info": {
   "codemirror_mode": {
    "name": "ipython",
    "version": 3
   },
   "file_extension": ".py",
   "mimetype": "text/x-python",
   "name": "python",
   "nbconvert_exporter": "python",
   "pygments_lexer": "ipython3",
   "version": "3.11.9"
  }
 },
 "nbformat": 4,
 "nbformat_minor": 5
}
